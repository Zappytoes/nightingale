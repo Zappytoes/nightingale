{
 "cells": [
  {
   "cell_type": "markdown",
   "metadata": {},
   "source": [
    "<div class = \"alert alert-block alert-success\">\n",
    "    \n",
    "# <span style='color:purple'>Welcome to Nightingale v0.1! \n",
    "\n",
    "\n",
    "## <span style='color:Blue'>Nightingale is a Python & Tensorflow codebase for training, exporting, inferencing, & evaluating the state-of-the-art SCRDet++ object detection model with ResNet backbone on NITF imagery. Nightingale's inference module is compatible with the OMITTED suite of products. The current version of Nightingale is configured for System 2200 visible light, electro-optical sensor, single-band imagery.  \n",
    "    \n",
    "# <span style='color:Blue'> Some exciting features of <span style='color:purple'>*Nightingale*</span> include:\n",
    "\n",
    "* ## <span style='color:Blue'> A pre-configured Tensorflow-GPU anaconda environment or Docker container\n",
    "* ## <span style='color:Blue'> State-of-the-art detector performance for Object-Aligned Bounding-Boxes (OAB) with the SCRDet++ model\n",
    "* ## <span style='color:Blue'> Easy-to-follow model training & inference guides with Jupyter Notebooks\n",
    "* ## <span style='color:Blue'> An updated training pipeline for NITFs, with background-only (i.e., annotation-free) image support for enhanced False Positive reduction\n",
    "* ## <span style='color:Blue'> A module for quickly exporting trained models to a deployable Tensorflow frozen-graph format\n",
    "* ## <span style='color:Blue'> An intuitive inference API with OMITTED-compatible I/O\n",
    "* ## <span style='color:Blue'> A fast & powerful inference module for processing large NITFs using a parallel-gpu image-tiling scheme"
   ]
  },
  {
   "cell_type": "markdown",
   "metadata": {},
   "source": [
    "<div class = \"alert alert-block alert-success\">\n",
    "    \n",
    "# <span style='color:purple'>Who should use Nightingale?\n",
    "\n",
    "## <span style='color:Blue'>Nightingale is for Computer Vision data scientists, researchers, or developers with access to the omitted. You'll need a linux style GPU-accelerated computing environemnt with Jupyter Notebooks, such as users with a omitted account and access to omitted systems. It is also for those interestd in object-aligned object detection or a OMITTED-compatible detector. \n",
    "    \n",
    "## More info:\n",
    "\n",
    "Links omitted"
   ]
  },
  {
   "cell_type": "markdown",
   "metadata": {},
   "source": [
    "<div class = \"alert alert-block alert-info\">\n",
    "\n",
    "# <span style='color:purple'>Getting started\n",
    "\n",
    "# You'll need access to a linux style operating system with Jupyter Software (or similar IPython notebook interpreter) installed.\n",
    "\n",
    "# There are 3 options for running Nightingale:\n",
    "> ## <span style='color:magenta'>1. By downloading the GitLab repository and installing the pre-configured conda environment\n",
    "> ## <span style='color:magenta'>2. ~~From a Docker conainer~~ (available in future versions)\n",
    "> ## <span style='color:magenta'>3. Setting up your own environment\n",
    "\n",
    "## First, you'll need to check that you have either conda or docker installed on your system. From your terminal, type\n",
    "\n",
    "> ## `conda`\n",
    "> or\n",
    "> ## `docker` \n",
    ">> ## *note that you may need to first do  `newgrp docker` to add yourself to the docker group\n",
    "\n",
    "> ## Contact your system administrators if you need conda or docker\n",
    "\n",
    "\n",
    "## <span style='color:magenta'>Running Nightingale Option 1. Download the codebase from GitLab and install\n",
    "> * ## Download: https://sc.appdev.proj.coe.ic.gov/on22851-nga/scrdet-fpn-tensorflow-rotation\n",
    "> * ## Install nightingale's conda environment: \n",
    ">> ### `cd Nightingale/Training/libs/conda_environment`\n",
    ">> ### `conda env create -f nightingale_env.yml`\n",
    "> * ## Activate the environment:\n",
    ">> ### `conda activate nightingale_env`\n",
    "> * ## Compile the box utilities\n",
    ">> ### `cd Nightingale/Training/libs/box_utils/cython_utils`\n",
    ">> ### `python setup.py build_ext --inplace`\n",
    ">> ### `cd Nightingale/Training/libs/box_utils`\n",
    ">> ### `python setup.py build_ext --inplace`\n",
    "\n",
    "## <span style='color:magenta'>~~Running Nightingale Option 2. From the Docker container~~\n",
    "> * ## Get the Nightingale Docker image:\n",
    ">> ### `docker pull XXXX`\n",
    "> * ## Run image for use with Jupyter Notebooks\n",
    ">> ### `docker run --rm -v /:/mnt/ -it XXXX jupyter`\n",
    "> * ## Run image with ipython\n",
    ">> ### `docker run --rm -v /:/mnt/ -it XXXX ipython`\n",
    "> * ## Run image with a bash session\n",
    ">> ### `docker run --rm -v /:/mnt/ -it XXXX bash`\n",
    "\n",
    "## <span style='color:magenta'>Running Nightingale Option 3. Configuring your own environment\n",
    "    \n",
    "> ## Download the GitLab repo from Option #1, then configure your own environment.\n",
    "```\n",
    "python  3.6.10\n",
    "tensorflow-gpu  1.13.1\n",
    "osgeo.gdal  3.1.1\n",
    "tfplot  0.2.0\n",
    "matplotlib  3.0.2\n",
    "cv2  4.4.0\n",
    "shapely  1.7.1\n",
    "pandas 1.1.5\n",
    "numpy 1.16.6\n",
    "```\n",
    "> ## Note that for Option #3 you will need to compile the box utilities detailed in Option #1."
   ]
  },
  {
   "cell_type": "markdown",
   "metadata": {},
   "source": [
    "<div class = \"alert alert-block alert-info\">\n",
    "\n",
    "# <span style='color:purple'>Get to work training or inferencing Nightingale!\n",
    "\n",
    "# The Nightingale codebase is divided into two folders:\n",
    "> # Training\n",
    "> # Inference\n",
    "# Each folder contains easy-to-follow Jupyter Notebooks for progressing through the training or inference process and understanding the Nightingale API. \n",
    "\n",
    "# The <span style='color:purple'>Training</span> folder contains 5 Jupyter Notebooks and 4 folders:"
   ]
  },
  {
   "cell_type": "code",
   "execution_count": 1,
   "metadata": {},
   "outputs": [
    {
     "name": "stdout",
     "output_type": "stream",
     "text": [
      "0-Model_Training_Configuration_Overview.ipynb  \u001b[0m\u001b[01;34mdata\u001b[0m/\r\n",
      "1-Format_Groundtruth_for_Nightingale.ipynb     \u001b[01;34mhelp_utils\u001b[0m/\r\n",
      "2-Make_TF_Record.ipynb                         \u001b[01;34mlibs\u001b[0m/\r\n",
      "3-Train_The_Model.ipynb                        \u001b[01;34mtools\u001b[0m/\r\n",
      "4-Export_the_Model.ipynb\r\n"
     ]
    }
   ],
   "source": [
    "ls Training/"
   ]
  },
  {
   "cell_type": "markdown",
   "metadata": {},
   "source": [
    "<div class = \"alert alert-block alert-info\">\n",
    "\n",
    "# The Jupyter Notebooks in the Training folder walk you through the process of training a model with NITF imagery and a CSV groundtruth file using a small sample of the OMITTED dataset as an example. Open the the first notebook to get started:\n",
    "> ##  <span style='color:purple'>0-Model_Training_Configuration_Overview.ipynb "
   ]
  },
  {
   "cell_type": "markdown",
   "metadata": {},
   "source": [
    "<div class = \"alert alert-block alert-info\">\n",
    "\n",
    "# The <span style='color:purple'>Inference</span> folder contains 1 Jupyter Notebook (*nightingale_api*), the inference module (*nightingale_parallel.py*) and supplemental folders:"
   ]
  },
  {
   "cell_type": "code",
   "execution_count": 2,
   "metadata": {},
   "outputs": [
    {
     "name": "stdout",
     "output_type": "stream",
     "text": [
      "\u001b[0m\u001b[01;34mmodel\u001b[0m/                 nightingale_parallel.py  \u001b[01;34mSample_NITF\u001b[0m/\r\n",
      "nightingale_api.ipynb  \u001b[01;34mreadme_figures\u001b[0m/          \u001b[01;34mTest&Evaluate\u001b[0m/\r\n"
     ]
    }
   ],
   "source": [
    "ls Inference/"
   ]
  },
  {
   "cell_type": "markdown",
   "metadata": {},
   "source": [
    "<div class = \"alert alert-block alert-info\">\n",
    "\n",
    "# Open the nightingale_api notebook to get started with inferencing the model:\n",
    "> ##  <span style='color:purple'>nightingale_api.ipynb"
   ]
  },
  {
   "cell_type": "markdown",
   "metadata": {},
   "source": [
    "<div class = \"alert alert-block alert-info\">\n",
    "\n",
    "# Finally, you can use the contents of the <span style='color:purple'>Inference/Test&Evaluate</span> folder to test and evaluate your model, as well as write false postitives to a file so you can retrain the model on regions were FP occur, leading to enhanced FP reduction:"
   ]
  },
  {
   "cell_type": "code",
   "execution_count": 3,
   "metadata": {},
   "outputs": [
    {
     "name": "stdout",
     "output_type": "stream",
     "text": [
      "evaluate.ipynb  objdeteval.py\r\n"
     ]
    }
   ],
   "source": [
    "ls Inference/Test\\&Evaluate"
   ]
  },
  {
   "cell_type": "markdown",
   "metadata": {},
   "source": [
    "<div class = \"alert alert-block alert-info\">\n",
    "\n",
    "# Open the evaluation notebook to evaluate your model:\n",
    "> ##  <span style='color:purple'>evaluate.ipynb"
   ]
  },
  {
   "cell_type": "markdown",
   "metadata": {},
   "source": [
    "<div class = \"alert alert-block alert-success\">\n",
    "    \n",
    "# <span style='color:purple'>This concludes the introduction to the Nightingale codebase! "
   ]
  },
  {
   "cell_type": "code",
   "execution_count": null,
   "metadata": {},
   "outputs": [],
   "source": []
  }
 ],
 "metadata": {
  "kernelspec": {
   "display_name": "nightingale_env",
   "language": "python",
   "name": "nightingale_env"
  },
  "language_info": {
   "codemirror_mode": {
    "name": "ipython",
    "version": 3
   },
   "file_extension": ".py",
   "mimetype": "text/x-python",
   "name": "python",
   "nbconvert_exporter": "python",
   "pygments_lexer": "ipython3",
   "version": "3.6.10"
  }
 },
 "nbformat": 4,
 "nbformat_minor": 2
}
