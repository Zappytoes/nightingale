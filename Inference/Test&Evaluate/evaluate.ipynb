{
 "cells": [
  {
   "cell_type": "markdown",
   "metadata": {},
   "source": [
    "<div class = \"alert alert-block alert-success\">\n",
    "    \n",
    "# <span style='color:black'> Model Evaluation and False Positive Reduction"
   ]
  },
  {
   "cell_type": "markdown",
   "metadata": {},
   "source": [
    "<div class = \"alert alert-block alert-success\">\n",
    "\n",
    "# <span style='color:Blue'>This notebook is provided if you'd like to use the object detection evaluation module (objdeteval.py) to evaluate the results output from the nightingale_parallel module that were saved and formatted in the nightingale_api.ipynb Jupyter Notebook. **Note that because this example uses the very few detections and groundtruth annotations provided with the sample data, the curves will look a little funky. **\n",
    "    \n",
    "# <span style='color:purple'> An exciting feature of Nightingale's *objdeteval* module is that is saves Falses Positives to Nightingale-Formatted groundtruth files, allowing for easy merging with the original groundtruth data csv for enhanced network training on confusers that are not labled in the original dataset. "
   ]
  },
  {
   "cell_type": "markdown",
   "metadata": {},
   "source": [
    "<div class = \"alert alert-block alert-success\">\n",
    "\n",
    "# <span style='color:Blue'> First we'll check out and run the eval code"
   ]
  },
  {
   "cell_type": "code",
   "execution_count": 1,
   "metadata": {
    "colab": {},
    "colab_type": "code",
    "id": "9ni7L-lKsXPR"
   },
   "outputs": [],
   "source": [
    "import numpy as np\n",
    "\n",
    "# Evaluation inputs\n",
    "det_file = 'my_results.csv'\n",
    "gt_file = '../Sample_NITF/omittedimage_groundtruth.csv'\n",
    "iou_thresh = 0.2\n",
    "score_thresh = [0.01,0.1,0.2,0.3,0.4,0.5,0.6,0.7,0.8,0.9,1.0]\n",
    "## PRIORI3 ##\n",
    "class_list = ['class1', 'class2', 'calss3']"
   ]
  },
  {
   "cell_type": "code",
   "execution_count": 2,
   "metadata": {
    "colab": {},
    "colab_type": "code",
    "id": "JSgOntzJ3GqA"
   },
   "outputs": [],
   "source": [
    "from objdeteval import Eval"
   ]
  },
  {
   "cell_type": "markdown",
   "metadata": {},
   "source": [
    "## The usage for the Eval function is as follows:\n",
    "\n",
    "**Eval(gt_file,\n",
    "     det_file,\n",
    "     iou_thresh,\n",
    "     class_list,\n",
    "     score_thresh=array([0. , 0.1, 0.2, 0.3, 0.4, 0.5, 0.6, 0.7, 0.8, 0.9, 1. ]),)**\n",
    "\n",
    "***Evaluates a detection file against a groundtruth file for object-oriented quadrilaters.\n",
    "Returns precision, recall, F1-Score, True-Positives, False-Positives, False-Negatives,\n",
    "and a confusion matrix***\n",
    "\n",
    "**Usage: p,r,f1,tp,fp,fn,confm = Eval(gt_file, det_file, iou_thresh, score_thresh, class_list)**\n",
    "\n",
    "**gt_file** : str; path to Nightgale formatted groundtruth csv:\n",
    "              IMID,xLF,yLF,xRF,yRF,xRB,yRB,xLB,yLB,class\n",
    "              \n",
    "**det_file** : str; path to Nighingale formatted detection csv:\n",
    "               geometry,class,conf,image_name,id,Background Score,Class #1 Score,Class #2 Score, etc...\n",
    "\n",
    "**iou_thresh** : float; The acceptable Intersection-Over-Union for a detection to be considered a \n",
    "             True-Positive\n",
    "\n",
    "**score_thresh** : iterable : a list or array of confidence scores to evaluate against. E.g., \n",
    "               score_thresh = np.arange(0.0,1.1,0.1)\n",
    "               \n",
    "**class_list** : list; An list of strings corresponding to the classes in the groundtruth (does\n",
    "             not include the 'background' class). E.g., class_list=['class1','class2','class3']"
   ]
  },
  {
   "cell_type": "code",
   "execution_count": 3,
   "metadata": {
    "colab": {
     "base_uri": "https://localhost:8080/",
     "height": 279,
     "referenced_widgets": [
      "150822c410404b0cb81c148be0feebd3",
      "de63163b86744e37b910ad808bd3e830",
      "fe5cc089c1864af78b13180ac5683cfd",
      "8b2fbfdad8ee4df1b4d2426a0a53463b",
      "7c0bbb62653b43d5810eca8c57c9306e",
      "608bdde3354f4144910165223c2da16e",
      "e8c8bf900e3f4e78becdc8ee3773d119",
      "e22ce415e62d49d9834eed4be32db24d",
      "9036e1977baf441c96073037c80f794d",
      "2d61530cbed2415d9928930e121e5ab6",
      "d945d1a2e88b4c71b06e035682a2bf98",
      "080af10c25b74bd8bdd0bd45b25983b6",
      "fdf902ffda5245c3a41c8b5eb148bf07",
      "3a59d775a5ad4792a4a0a247a4b21086",
      "22de56ee841342318998ef4f18fda72c",
      "0fd65933ee424c998bd13208342499a4",
      "94126431060347c4b7dce8cad4e3d190",
      "e6380f5d77cf40aeb8864447dbec932d",
      "70a382f5d51b43fe806a5e86dac59271",
      "37cd25b4627149538b72fae26182fb9a",
      "472ab4bd67a44ece869d5ae7bcccbeb4",
      "a021a201545a45e39eb89ada566f011f",
      "42cf88365a964eefb4c4a9a0d2e43ce7",
      "21dc78ec2b174bcea96fd93433a0cb60",
      "e25ceac1002248098c2e2c907558bc0c",
      "52eab12be6ca4649818915f1688b47e3",
      "d9fac6700ace4f5e8046b9b603aa73e8",
      "8a5a3ec98c4b4d7e9e425f8de3ef708e",
      "15beb4c5a30644dc925bdbab2b6f6fd9",
      "c8607cfa738b41e4879f6a01dc09043d",
      "eb88676fba1d47e482f448c72879fe05",
      "64686c27827442ee9827baead150bcd9",
      "db7ec3532a624d19a50d1731aa958f48",
      "b4642831ccdc452e8589f0fb02d65102",
      "0c56b63c66ad4eaf9220ee5d6a3d6edf",
      "5bddb763bbfd439796bf2ea3ab41a613",
      "e2685b7a57b2415bb9eb94d300ddc41b",
      "fe88279fad304921b3794318a4021384",
      "abba95d86497405c9d03bcb4343351d9",
      "1b3c7031dcf54aa9907a0378449b7ba6"
     ]
    },
    "colab_type": "code",
    "executionInfo": {
     "elapsed": 3837870,
     "status": "ok",
     "timestamp": 1591033080474,
     "user": {
      "displayName": "john schuh",
      "photoUrl": "https://lh3.googleusercontent.com/a-/AOh14Gjow99dv0X4AmO86SrUvNKu7AvomSwds_735tjShQ=s64",
      "userId": "14672218808695735342"
     },
     "user_tz": 240
    },
    "id": "EPFCeCy53XZd",
    "outputId": "c6a08b1a-4a85-4be9-eb3e-bc63b3516fe8"
   },
   "outputs": [
    {
     "name": "stdout",
     "output_type": "stream",
     "text": [
      "converted txt files to arrays\n",
      "\n",
      "done, computing p r and f1\n",
      "done\n"
     ]
    }
   ],
   "source": [
    "[p,r,f1,tp,fp,fn,confm] = Eval(gt_file=gt_file,det_file=det_file,iou_thresh=iou_thresh,score_thresh=score_thresh,class_list=class_list)"
   ]
  },
  {
   "cell_type": "markdown",
   "metadata": {},
   "source": [
    "## The outputs for p, r, f1, tp, fp, & fn will be numpy arrays with a shape equal to ***(len(score_thresh),len(class_list))***\n",
    "## The confusion matrix will have a shape equal to ***(len(class_list)+1,len(class_list),len(score_thresh))***, where the first dimension is one longer because it includes the \"background\" class"
   ]
  },
  {
   "cell_type": "code",
   "execution_count": 4,
   "metadata": {},
   "outputs": [
    {
     "data": {
      "text/plain": [
       "((11, 3), (11, 3), (11, 3), (11, 3), (11, 3), (11, 3), (4, 3, 11))"
      ]
     },
     "execution_count": 4,
     "metadata": {},
     "output_type": "execute_result"
    }
   ],
   "source": [
    "p.shape,r.shape,f1.shape,tp.shape,fp.shape,fn.shape,confm.shape"
   ]
  },
  {
   "cell_type": "code",
   "execution_count": 5,
   "metadata": {
    "colab": {},
    "colab_type": "code",
    "id": "zCDQujDVJTdB"
   },
   "outputs": [],
   "source": [
    "# find the average metrics for each score threshold\n",
    "p_mean = np.nanmean(p,axis=1)\n",
    "r_mean = np.nanmean(r,axis=1)\n",
    "f1_mean = np.nanmean(f1,axis=1)"
   ]
  },
  {
   "cell_type": "markdown",
   "metadata": {},
   "source": [
    "## The below cells are used to plot the results"
   ]
  },
  {
   "cell_type": "code",
   "execution_count": 6,
   "metadata": {
    "colab": {},
    "colab_type": "code",
    "id": "evAFSx4MoFvL"
   },
   "outputs": [],
   "source": [
    "import matplotlib.pyplot as plt\n",
    "from matplotlib import cm\n",
    "import matplotlib.patheffects as pe"
   ]
  },
  {
   "cell_type": "code",
   "execution_count": 3,
   "metadata": {
    "colab": {
     "base_uri": "https://localhost:8080/",
     "height": 609
    },
    "colab_type": "code",
    "executionInfo": {
     "elapsed": 1306,
     "status": "ok",
     "timestamp": 1591033434185,
     "user": {
      "displayName": "john schuh",
      "photoUrl": "https://lh3.googleusercontent.com/a-/AOh14Gjow99dv0X4AmO86SrUvNKu7AvomSwds_735tjShQ=s64",
      "userId": "14672218808695735342"
     },
     "user_tz": 240
    },
    "id": "I1l64G0M4tMg",
    "outputId": "bc7dabaf-c2cd-44c8-ead8-1480f1818ee7"
   },
   "outputs": [],
   "source": [
    "##############################\n",
    "## Plot the average metrics ##\n",
    "##############################\n",
    "\n",
    "fig,ax = plt.subplots(1,2,figsize=(20,20))\n",
    "\n",
    "ax[0].plot(r_mean,p_mean,linewidth=4,c='r',path_effects=[pe.Stroke(linewidth=6, foreground='k'), pe.Normal()])\n",
    "ax[0].plot(r_mean,p_mean,'o',c='k',mew=5)\n",
    "ax[0].set_ylabel('Precision',size=20)\n",
    "ax[0].set_xlabel('Recall',size=20)\n",
    "ax[0].axis('square');\n",
    "ax[0].set_title('PR Curve (AP = '+str(np.round(np.nanmean(p_mean),decimals=3))+')',size=20);\n",
    "ax[0].minorticks_on()\n",
    "ax[0].grid()\n",
    "ax[0].grid(which='minor', linestyle=':', linewidth='0.1', color='black')\n",
    "ax[0].set_xlim(-0.01,1.01);\n",
    "ax[0].set_ylim(-0.01,1.01);\n",
    "ax[0].tick_params(labelsize=22)\n",
    "\n",
    "ax[1].plot(score_thresh,p_mean,linewidth=4,c='r',path_effects=[pe.Stroke(linewidth=6, foreground='k'), pe.Normal()])\n",
    "ax[1].plot(score_thresh,r_mean,linewidth=4,c='b',path_effects=[pe.Stroke(linewidth=6, foreground='k'), pe.Normal()])\n",
    "ax[1].plot(score_thresh,f1_mean,linewidth=4,c='m',path_effects=[pe.Stroke(linewidth=6, foreground='k'), pe.Normal()])\n",
    "ax[1].legend(['Precision','Recall','F1'],fontsize=20,loc='lower left')\n",
    "ax[1].set_xlabel('Confidence Score',size=20);\n",
    "ax[1].set_ylabel('Value',size=20);\n",
    "ax[1].axis('square');\n",
    "ax[1].set_title('Average Metrics vs Confindence',size=20);\n",
    "ax[1].minorticks_on()\n",
    "ax[1].grid()\n",
    "ax[1].grid(which='minor', linestyle=':', linewidth='0.1', color='black')\n",
    "ax[1].set_xlim(-0.01,1.01);\n",
    "ax[1].set_ylim(-0.01,1.01);\n",
    "ax[1].tick_params(labelsize=22)"
   ]
  },
  {
   "cell_type": "code",
   "execution_count": 4,
   "metadata": {
    "colab": {
     "base_uri": "https://localhost:8080/",
     "height": 1000
    },
    "colab_type": "code",
    "executionInfo": {
     "elapsed": 2349,
     "status": "ok",
     "timestamp": 1591036432158,
     "user": {
      "displayName": "john schuh",
      "photoUrl": "https://lh3.googleusercontent.com/a-/AOh14Gjow99dv0X4AmO86SrUvNKu7AvomSwds_735tjShQ=s64",
      "userId": "14672218808695735342"
     },
     "user_tz": 240
    },
    "id": "w1zAOiMNhLZ4",
    "outputId": "272dfb88-3a4a-4f19-fae8-9e089b62563a"
   },
   "outputs": [],
   "source": [
    "#######################################\n",
    "## Plot the class-specific PR curves ##\n",
    "#######################################\n",
    "\n",
    "fig0,ax0 = plt.subplots(figsize=(10,10))\n",
    "\n",
    "w = cm.get_cmap('gist_rainbow')\n",
    "linsty = ['solid','dotted','dashed']*20\n",
    "for cl in np.arange(0,len(class_list)):\n",
    "    ax0.plot(r[:,cl],p[:,cl],color=w(cl/(len(class_list)-1)),path_effects=[pe.Stroke(linewidth=6, foreground='k'), pe.Normal()],linestyle = linsty[cl],linewidth=4)\n",
    "ax0.legend(class_list,loc='right',bbox_to_anchor=(1.35, 0.5),prop={'size': 14},fontsize=40)\n",
    "ax0.set_xlabel('Recall',size=20);\n",
    "ax0.set_ylabel('Precision',size=20);\n",
    "ax0.axis('square');\n",
    "ax0.set_title('PR Class Breakdown',size=20);\n",
    "ax0.minorticks_on()\n",
    "ax0.grid()\n",
    "ax0.grid(which='minor', linestyle=':', linewidth='0.1', color='black')\n",
    "ax0.set_xlim(-0.01,1.01);\n",
    "ax0.set_ylim(-0.01,1.01);\n",
    "ax0.tick_params(labelsize=22)"
   ]
  },
  {
   "cell_type": "code",
   "execution_count": 5,
   "metadata": {
    "colab": {
     "base_uri": "https://localhost:8080/",
     "height": 1000
    },
    "colab_type": "code",
    "executionInfo": {
     "elapsed": 3656,
     "status": "ok",
     "timestamp": 1591036675285,
     "user": {
      "displayName": "john schuh",
      "photoUrl": "https://lh3.googleusercontent.com/a-/AOh14Gjow99dv0X4AmO86SrUvNKu7AvomSwds_735tjShQ=s64",
      "userId": "14672218808695735342"
     },
     "user_tz": 240
    },
    "id": "FbnX7HW_5geT",
    "outputId": "6fbdc353-4b6c-4e7e-a08b-a2217cac9cc6",
    "scrolled": true
   },
   "outputs": [],
   "source": [
    "#####################################################################\n",
    "## Plot the class-specific F1, Precision, and Recall vs Confidence ##\n",
    "#####################################################################\n",
    "\n",
    "fig0,ax0 = plt.subplots(1,3,figsize=(25,25))\n",
    "\n",
    "w = cm.get_cmap('gist_rainbow')\n",
    "linsty = ['solid','dotted','dashed']*20\n",
    "for cl in np.arange(0,len(class_list)):\n",
    "    ax0[0].plot(score_thresh,f1[:,cl],color=w(cl/(len(class_list)-1)),path_effects=[pe.Stroke(linewidth=6, foreground='k'), pe.Normal()],linestyle = linsty[cl],linewidth=4)\n",
    "ax0[0].set_xlabel('Confidence Score',size=20);\n",
    "ax0[0].set_ylabel('Value',size=20);\n",
    "ax0[0].axis('square');\n",
    "ax0[0].set_title('F1 Class Breakdown',size=20);\n",
    "ax0[0].minorticks_on()\n",
    "ax0[0].grid()\n",
    "ax0[0].grid(which='minor', linestyle=':', linewidth='0.1', color='black')\n",
    "ax0[0].set_xlim(-0.01,1.01);\n",
    "ax0[0].set_ylim(-0.01,1.01);\n",
    "ax0[0].tick_params(labelsize=22)\n",
    "\n",
    "\n",
    "for cl in np.arange(0,len(class_list)):\n",
    "    ax0[1].plot(score_thresh,r[:,cl],color=w(cl/(len(class_list)-1)),path_effects=[pe.Stroke(linewidth=6, foreground='k'), pe.Normal()],linestyle = linsty[cl],linewidth=4)\n",
    "ax0[1].set_xlabel('Confidence Score',size=20);\n",
    "ax0[1].axis('square');\n",
    "ax0[1].set_title('Recall Class Breakdown',size=20);\n",
    "ax0[1].minorticks_on()\n",
    "ax0[1].grid()\n",
    "ax0[1].grid(which='minor', linestyle=':', linewidth='0.1', color='black')\n",
    "ax0[1].set_xlim(-0.01,1.01);\n",
    "ax0[1].set_ylim(-0.01,1.01);\n",
    "ax0[1].tick_params(labelsize=22)\n",
    "\n",
    "\n",
    "for cl in np.arange(0,len(class_list)):\n",
    "    ax0[2].plot(score_thresh,p[:,cl],color=w(cl/(len(class_list)-1)),path_effects=[pe.Stroke(linewidth=6, foreground='k'), pe.Normal()],linestyle = linsty[cl],linewidth=4)\n",
    "ax0[2].legend(class_list,loc='right',bbox_to_anchor=(1.42, 0.5),prop={'size': 14},fontsize=40)\n",
    "ax0[2].set_xlabel('Confidence Score',size=20);\n",
    "ax0[2].axis('square');\n",
    "ax0[2].set_title('Precision Class Breakdown',size=20);\n",
    "ax0[2].minorticks_on()\n",
    "ax0[2].grid()\n",
    "ax0[2].grid(which='minor', linestyle=':', linewidth='0.1', color='black')\n",
    "ax0[2].set_xlim(-0.01,1.01);\n",
    "ax0[2].set_ylim(-0.01,1.01);\n",
    "ax0[2].tick_params(labelsize=22)"
   ]
  },
  {
   "cell_type": "code",
   "execution_count": 1,
   "metadata": {},
   "outputs": [],
   "source": [
    "######################################################\n",
    "## Plot the confusion matrix where confidence = 0.5 ##\n",
    "######################################################\n",
    "import pandas as pd\n",
    "pd.DataFrame(confm[:,:,5].astype(int),columns=class_list,index=['Background']+class_list)"
   ]
  },
  {
   "cell_type": "markdown",
   "metadata": {},
   "source": [
    "## The below cell will plot the results of each category at the optimized confidence score determined by peak F1 performance. This plot will tell you what scores you should threshold the detector confidence at for optimized F1 performance (see description of the \"conf\" parameter in the nightingale_api notebook). "
   ]
  },
  {
   "cell_type": "code",
   "execution_count": 6,
   "metadata": {},
   "outputs": [],
   "source": [
    "peak_f1s = []\n",
    "optimized_scores = []\n",
    "p_f1s = []\n",
    "r_f1s = []\n",
    "score_class_list = []\n",
    "\n",
    "index=[]\n",
    "for col in range(0,f1.shape[1]):\n",
    "    try:\n",
    "        index.append(np.nanargmax(f1[:,col]))\n",
    "    except:\n",
    "        index.append(0)\n",
    "    \n",
    "index = np.array(index)\n",
    "for cl in range(0,len(class_list)):\n",
    "    peak_f1s.append(f1[index[cl],cl])\n",
    "    p_f1s.append(p[index[cl],cl])\n",
    "    r_f1s.append(r[index[cl],cl])\n",
    "    optimized_scores.append(score_thresh[index[cl]])\n",
    "    score_class_list.append(class_list[cl]+'\\n@conf='+str(optimized_scores[cl]))\n",
    "    \n",
    "fig_break, ax_break = plt.subplots(figsize = (10,10))\n",
    "width = 0.25\n",
    "x = np.arange(0,len(class_list),dtype=np.int32)\n",
    "\n",
    "ax_break.bar(x-width,peak_f1s,width=width,label='f1')\n",
    "ax_break.bar(x,p_f1s,width=width, label='Precision')\n",
    "ax_break.bar(x+width,r_f1s,width=width, label='Recall')\n",
    "\n",
    "ax_break.set_xticks(x)\n",
    "ax_break.set_xticklabels(class_list)\n",
    "ax_break.legend()\n",
    "ax_break.set_title('Peak F1 Performance by Category',weight='bold',size=12);\n",
    "\n",
    "ax_break.set_ylim([0,1])\n",
    "\n",
    "ax_break.set_yticks(np.arange(0.0,1.05,0.05))\n",
    "ylabels = np.ndarray.tolist(np.array(np.round(ax_break.get_yticks(),decimals=2),dtype='str'))\n",
    "ax_break.set_yticklabels(ylabels,weight='bold',size=12);\n",
    "ax_break.set_ylabel('Score',weight='bold',size=12);\n",
    "ax_break.set_xticklabels(score_class_list,weight='bold',size=12);\n",
    "\n",
    "ax_break.grid(axis='y')"
   ]
  },
  {
   "cell_type": "markdown",
   "metadata": {},
   "source": [
    "<div class = \"alert alert-block alert-success\">\n",
    "    \n",
    "# <span style='color:Green'> *False-Positive Feedback (FPF)*\n",
    "    \n",
    "# <span style='color:purple'> Now that we've evaluated our model, you are done learning most of what Nightingale has to offer! But the output of the Eval function gives us more information that we can use to improve the model by reducing False Positives.\n",
    "\n",
    "# <span style='color:blue'> Notice that there is a new folder in our Test&Evaluate folder called \"FP_Files\""
   ]
  },
  {
   "cell_type": "code",
   "execution_count": 12,
   "metadata": {},
   "outputs": [
    {
     "name": "stdout",
     "output_type": "stream",
     "text": [
      "evaluate.ipynb  \u001b[0m\u001b[01;34mFP_Files\u001b[0m/  my_results.csv  objdeteval.py  \u001b[01;34m__pycache__\u001b[0m/\r\n"
     ]
    }
   ],
   "source": [
    "ls"
   ]
  },
  {
   "cell_type": "markdown",
   "metadata": {},
   "source": [
    "<div class = \"alert alert-block alert-success\">\n",
    "\n",
    "# <span style='color:blue'> The folder contains csv files of False Positives that were detected at each confidence score threshold we tested for:"
   ]
  },
  {
   "cell_type": "code",
   "execution_count": 13,
   "metadata": {},
   "outputs": [
    {
     "name": "stdout",
     "output_type": "stream",
     "text": [
      "False_Positives_score_0.01_and_up.csv  False_Positives_score_0.6_and_up.csv\r\n",
      "False_Positives_score_0.1_and_up.csv   False_Positives_score_0.7_and_up.csv\r\n",
      "False_Positives_score_0.2_and_up.csv   False_Positives_score_0.8_and_up.csv\r\n",
      "False_Positives_score_0.3_and_up.csv   False_Positives_score_0.9_and_up.csv\r\n",
      "False_Positives_score_0.4_and_up.csv   False_Positives_score_1.0_and_up.csv\r\n",
      "False_Positives_score_0.5_and_up.csv\r\n"
     ]
    }
   ],
   "source": [
    "ls FP_Files/"
   ]
  },
  {
   "cell_type": "markdown",
   "metadata": {},
   "source": [
    "<div class = \"alert alert-block alert-success\">\n",
    "\n",
    "# <span style='color:blue'> Using Pandas, we can easily merge our False Positives labels with the sample Nightingale Formatted groundtruth file (omittedimage_groundtruth.csv) in Nightingale/Inference/Sample_NITF. \n",
    "    \n",
    "# <span style='color:blue'> Let's make a new CSV that includes both the original annotations and all False Positives that had a score >= 0.8"
   ]
  },
  {
   "cell_type": "code",
   "execution_count": 15,
   "metadata": {},
   "outputs": [],
   "source": [
    "import pandas as pd"
   ]
  },
  {
   "cell_type": "code",
   "execution_count": 16,
   "metadata": {},
   "outputs": [],
   "source": [
    "gt_path_True = '../Sample_NITF/omittedimage_groundtruth.csv'\n",
    "gt_path_FP = 'FP_Files/False_Positives_score_0.8_and_up.csv'\n",
    "# reading the groundtruth file\n",
    "df_True = pd.read_csv(gt_path_True)\n",
    "df_FP = pd.read_csv(gt_path_FP)\n",
    "gt_dataframe = pd.concat([df_True,df_FP])"
   ]
  },
  {
   "cell_type": "markdown",
   "metadata": {},
   "source": [
    "<div class = \"alert alert-block alert-success\">\n",
    "\n",
    "# <span style='color:blue'> See that the new training data includes our original categories and new FALSE categories. "
   ]
  },
  {
   "cell_type": "code",
   "execution_count": 2,
   "metadata": {},
   "outputs": [],
   "source": [
    "gt_dataframe['class'].unique()"
   ]
  },
  {
   "cell_type": "markdown",
   "metadata": {},
   "source": [
    "<div class = \"alert alert-block alert-success\">\n",
    "\n",
    "# <span style='color:blue'> Save your combined groundtruth and False Positive dataframe a new CSV"
   ]
  },
  {
   "cell_type": "code",
   "execution_count": 19,
   "metadata": {},
   "outputs": [],
   "source": [
    "gt_dataframe.to_csv('../Sample_NITF/omittedimage_groundtruth_Plus_FP.csv',index=False)"
   ]
  },
  {
   "cell_type": "markdown",
   "metadata": {},
   "source": [
    "<div class = \"alert alert-block alert-success\">\n",
    "\n",
    "# <span style='color:green'> The resulting file can be used for future model training. When you convert your data to a TensorFlow Record (Training Notebook 2), Nightingale will automatically include examples of the \"FALSE\" categories in the training set by chipping image areas that contain False Positives and re-labeling the False Positives as background. When you retrain your model, it should be more robust to False Positives (higher precision). "
   ]
  },
  {
   "cell_type": "markdown",
   "metadata": {},
   "source": [
    "<div class = \"alert alert-block alert-success\">\n",
    "\n",
    "# <span style='color:green'> Try going back to the Training notebooks and think how you would apply this to the \"PRIORI_TRAIN\" csv you created. What would be a good strategy for collecting FP's and retraining the model? Answer: Run inference on your training data, collect the False Postives, make a new groundtruth file that includes the False Positives, and retrain the model.  "
   ]
  },
  {
   "cell_type": "markdown",
   "metadata": {},
   "source": [
    "<div class = \"alert alert-block alert-success\">\n",
    "\n",
    "# <span style='color:green'> That about covers it! \n",
    "    \n",
    "# <span style='color:blue'> Good luck, and thanks for checking out <span style='color:purple'>*Nightingale*</span>"
   ]
  },
  {
   "cell_type": "code",
   "execution_count": null,
   "metadata": {},
   "outputs": [],
   "source": []
  }
 ],
 "metadata": {
  "accelerator": "GPU",
  "colab": {
   "collapsed_sections": [],
   "machine_shape": "hm",
   "name": "Short_Evaluate.ipynb",
   "provenance": []
  },
  "kernelspec": {
   "display_name": "nightingale_env",
   "language": "python",
   "name": "nightingale_env"
  },
  "language_info": {
   "codemirror_mode": {
    "name": "ipython",
    "version": 3
   },
   "file_extension": ".py",
   "mimetype": "text/x-python",
   "name": "python",
   "nbconvert_exporter": "python",
   "pygments_lexer": "ipython3",
   "version": "3.6.10"
  },
  "widgets": {
   "application/vnd.jupyter.widget-state+json": {
    "080af10c25b74bd8bdd0bd45b25983b6": {
     "model_module": "@jupyter-widgets/controls",
     "model_name": "HTMLModel",
     "state": {
      "_dom_classes": [],
      "_model_module": "@jupyter-widgets/controls",
      "_model_module_version": "1.5.0",
      "_model_name": "HTMLModel",
      "_view_count": null,
      "_view_module": "@jupyter-widgets/controls",
      "_view_module_version": "1.5.0",
      "_view_name": "HTMLView",
      "description": "",
      "description_tooltip": null,
      "layout": "IPY_MODEL_0fd65933ee424c998bd13208342499a4",
      "placeholder": "​",
      "style": "IPY_MODEL_22de56ee841342318998ef4f18fda72c",
      "value": " 196343/196343 [18:30&lt;00:00, 4572.95it/s]"
     }
    },
    "0c56b63c66ad4eaf9220ee5d6a3d6edf": {
     "model_module": "@jupyter-widgets/controls",
     "model_name": "FloatProgressModel",
     "state": {
      "_dom_classes": [],
      "_model_module": "@jupyter-widgets/controls",
      "_model_module_version": "1.5.0",
      "_model_name": "FloatProgressModel",
      "_view_count": null,
      "_view_module": "@jupyter-widgets/controls",
      "_view_module_version": "1.5.0",
      "_view_name": "ProgressView",
      "bar_style": "success",
      "description": "100%",
      "description_tooltip": null,
      "layout": "IPY_MODEL_fe88279fad304921b3794318a4021384",
      "max": 196343,
      "min": 0,
      "orientation": "horizontal",
      "style": "IPY_MODEL_e2685b7a57b2415bb9eb94d300ddc41b",
      "value": 196343
     }
    },
    "0fd65933ee424c998bd13208342499a4": {
     "model_module": "@jupyter-widgets/base",
     "model_name": "LayoutModel",
     "state": {
      "_model_module": "@jupyter-widgets/base",
      "_model_module_version": "1.2.0",
      "_model_name": "LayoutModel",
      "_view_count": null,
      "_view_module": "@jupyter-widgets/base",
      "_view_module_version": "1.2.0",
      "_view_name": "LayoutView",
      "align_content": null,
      "align_items": null,
      "align_self": null,
      "border": null,
      "bottom": null,
      "display": null,
      "flex": null,
      "flex_flow": null,
      "grid_area": null,
      "grid_auto_columns": null,
      "grid_auto_flow": null,
      "grid_auto_rows": null,
      "grid_column": null,
      "grid_gap": null,
      "grid_row": null,
      "grid_template_areas": null,
      "grid_template_columns": null,
      "grid_template_rows": null,
      "height": null,
      "justify_content": null,
      "justify_items": null,
      "left": null,
      "margin": null,
      "max_height": null,
      "max_width": null,
      "min_height": null,
      "min_width": null,
      "object_fit": null,
      "object_position": null,
      "order": null,
      "overflow": null,
      "overflow_x": null,
      "overflow_y": null,
      "padding": null,
      "right": null,
      "top": null,
      "visibility": null,
      "width": null
     }
    },
    "150822c410404b0cb81c148be0feebd3": {
     "model_module": "@jupyter-widgets/controls",
     "model_name": "HBoxModel",
     "state": {
      "_dom_classes": [],
      "_model_module": "@jupyter-widgets/controls",
      "_model_module_version": "1.5.0",
      "_model_name": "HBoxModel",
      "_view_count": null,
      "_view_module": "@jupyter-widgets/controls",
      "_view_module_version": "1.5.0",
      "_view_name": "HBoxView",
      "box_style": "",
      "children": [
       "IPY_MODEL_fe5cc089c1864af78b13180ac5683cfd",
       "IPY_MODEL_8b2fbfdad8ee4df1b4d2426a0a53463b"
      ],
      "layout": "IPY_MODEL_de63163b86744e37b910ad808bd3e830"
     }
    },
    "15beb4c5a30644dc925bdbab2b6f6fd9": {
     "model_module": "@jupyter-widgets/controls",
     "model_name": "ProgressStyleModel",
     "state": {
      "_model_module": "@jupyter-widgets/controls",
      "_model_module_version": "1.5.0",
      "_model_name": "ProgressStyleModel",
      "_view_count": null,
      "_view_module": "@jupyter-widgets/base",
      "_view_module_version": "1.2.0",
      "_view_name": "StyleView",
      "bar_color": null,
      "description_width": "initial"
     }
    },
    "1b3c7031dcf54aa9907a0378449b7ba6": {
     "model_module": "@jupyter-widgets/base",
     "model_name": "LayoutModel",
     "state": {
      "_model_module": "@jupyter-widgets/base",
      "_model_module_version": "1.2.0",
      "_model_name": "LayoutModel",
      "_view_count": null,
      "_view_module": "@jupyter-widgets/base",
      "_view_module_version": "1.2.0",
      "_view_name": "LayoutView",
      "align_content": null,
      "align_items": null,
      "align_self": null,
      "border": null,
      "bottom": null,
      "display": null,
      "flex": null,
      "flex_flow": null,
      "grid_area": null,
      "grid_auto_columns": null,
      "grid_auto_flow": null,
      "grid_auto_rows": null,
      "grid_column": null,
      "grid_gap": null,
      "grid_row": null,
      "grid_template_areas": null,
      "grid_template_columns": null,
      "grid_template_rows": null,
      "height": null,
      "justify_content": null,
      "justify_items": null,
      "left": null,
      "margin": null,
      "max_height": null,
      "max_width": null,
      "min_height": null,
      "min_width": null,
      "object_fit": null,
      "object_position": null,
      "order": null,
      "overflow": null,
      "overflow_x": null,
      "overflow_y": null,
      "padding": null,
      "right": null,
      "top": null,
      "visibility": null,
      "width": null
     }
    },
    "21dc78ec2b174bcea96fd93433a0cb60": {
     "model_module": "@jupyter-widgets/base",
     "model_name": "LayoutModel",
     "state": {
      "_model_module": "@jupyter-widgets/base",
      "_model_module_version": "1.2.0",
      "_model_name": "LayoutModel",
      "_view_count": null,
      "_view_module": "@jupyter-widgets/base",
      "_view_module_version": "1.2.0",
      "_view_name": "LayoutView",
      "align_content": null,
      "align_items": null,
      "align_self": null,
      "border": null,
      "bottom": null,
      "display": null,
      "flex": null,
      "flex_flow": null,
      "grid_area": null,
      "grid_auto_columns": null,
      "grid_auto_flow": null,
      "grid_auto_rows": null,
      "grid_column": null,
      "grid_gap": null,
      "grid_row": null,
      "grid_template_areas": null,
      "grid_template_columns": null,
      "grid_template_rows": null,
      "height": null,
      "justify_content": null,
      "justify_items": null,
      "left": null,
      "margin": null,
      "max_height": null,
      "max_width": null,
      "min_height": null,
      "min_width": null,
      "object_fit": null,
      "object_position": null,
      "order": null,
      "overflow": null,
      "overflow_x": null,
      "overflow_y": null,
      "padding": null,
      "right": null,
      "top": null,
      "visibility": null,
      "width": null
     }
    },
    "22de56ee841342318998ef4f18fda72c": {
     "model_module": "@jupyter-widgets/controls",
     "model_name": "DescriptionStyleModel",
     "state": {
      "_model_module": "@jupyter-widgets/controls",
      "_model_module_version": "1.5.0",
      "_model_name": "DescriptionStyleModel",
      "_view_count": null,
      "_view_module": "@jupyter-widgets/base",
      "_view_module_version": "1.2.0",
      "_view_name": "StyleView",
      "description_width": ""
     }
    },
    "2d61530cbed2415d9928930e121e5ab6": {
     "model_module": "@jupyter-widgets/base",
     "model_name": "LayoutModel",
     "state": {
      "_model_module": "@jupyter-widgets/base",
      "_model_module_version": "1.2.0",
      "_model_name": "LayoutModel",
      "_view_count": null,
      "_view_module": "@jupyter-widgets/base",
      "_view_module_version": "1.2.0",
      "_view_name": "LayoutView",
      "align_content": null,
      "align_items": null,
      "align_self": null,
      "border": null,
      "bottom": null,
      "display": null,
      "flex": null,
      "flex_flow": null,
      "grid_area": null,
      "grid_auto_columns": null,
      "grid_auto_flow": null,
      "grid_auto_rows": null,
      "grid_column": null,
      "grid_gap": null,
      "grid_row": null,
      "grid_template_areas": null,
      "grid_template_columns": null,
      "grid_template_rows": null,
      "height": null,
      "justify_content": null,
      "justify_items": null,
      "left": null,
      "margin": null,
      "max_height": null,
      "max_width": null,
      "min_height": null,
      "min_width": null,
      "object_fit": null,
      "object_position": null,
      "order": null,
      "overflow": null,
      "overflow_x": null,
      "overflow_y": null,
      "padding": null,
      "right": null,
      "top": null,
      "visibility": null,
      "width": null
     }
    },
    "37cd25b4627149538b72fae26182fb9a": {
     "model_module": "@jupyter-widgets/controls",
     "model_name": "HTMLModel",
     "state": {
      "_dom_classes": [],
      "_model_module": "@jupyter-widgets/controls",
      "_model_module_version": "1.5.0",
      "_model_name": "HTMLModel",
      "_view_count": null,
      "_view_module": "@jupyter-widgets/controls",
      "_view_module_version": "1.5.0",
      "_view_name": "HTMLView",
      "description": "",
      "description_tooltip": null,
      "layout": "IPY_MODEL_21dc78ec2b174bcea96fd93433a0cb60",
      "placeholder": "​",
      "style": "IPY_MODEL_42cf88365a964eefb4c4a9a0d2e43ce7",
      "value": " 196343/196343 [17:26&lt;00:00, 1715.92it/s]"
     }
    },
    "3a59d775a5ad4792a4a0a247a4b21086": {
     "model_module": "@jupyter-widgets/base",
     "model_name": "LayoutModel",
     "state": {
      "_model_module": "@jupyter-widgets/base",
      "_model_module_version": "1.2.0",
      "_model_name": "LayoutModel",
      "_view_count": null,
      "_view_module": "@jupyter-widgets/base",
      "_view_module_version": "1.2.0",
      "_view_name": "LayoutView",
      "align_content": null,
      "align_items": null,
      "align_self": null,
      "border": null,
      "bottom": null,
      "display": null,
      "flex": null,
      "flex_flow": null,
      "grid_area": null,
      "grid_auto_columns": null,
      "grid_auto_flow": null,
      "grid_auto_rows": null,
      "grid_column": null,
      "grid_gap": null,
      "grid_row": null,
      "grid_template_areas": null,
      "grid_template_columns": null,
      "grid_template_rows": null,
      "height": null,
      "justify_content": null,
      "justify_items": null,
      "left": null,
      "margin": null,
      "max_height": null,
      "max_width": null,
      "min_height": null,
      "min_width": null,
      "object_fit": null,
      "object_position": null,
      "order": null,
      "overflow": null,
      "overflow_x": null,
      "overflow_y": null,
      "padding": null,
      "right": null,
      "top": null,
      "visibility": null,
      "width": null
     }
    },
    "42cf88365a964eefb4c4a9a0d2e43ce7": {
     "model_module": "@jupyter-widgets/controls",
     "model_name": "DescriptionStyleModel",
     "state": {
      "_model_module": "@jupyter-widgets/controls",
      "_model_module_version": "1.5.0",
      "_model_name": "DescriptionStyleModel",
      "_view_count": null,
      "_view_module": "@jupyter-widgets/base",
      "_view_module_version": "1.2.0",
      "_view_name": "StyleView",
      "description_width": ""
     }
    },
    "472ab4bd67a44ece869d5ae7bcccbeb4": {
     "model_module": "@jupyter-widgets/controls",
     "model_name": "ProgressStyleModel",
     "state": {
      "_model_module": "@jupyter-widgets/controls",
      "_model_module_version": "1.5.0",
      "_model_name": "ProgressStyleModel",
      "_view_count": null,
      "_view_module": "@jupyter-widgets/base",
      "_view_module_version": "1.2.0",
      "_view_name": "StyleView",
      "bar_color": null,
      "description_width": "initial"
     }
    },
    "52eab12be6ca4649818915f1688b47e3": {
     "model_module": "@jupyter-widgets/base",
     "model_name": "LayoutModel",
     "state": {
      "_model_module": "@jupyter-widgets/base",
      "_model_module_version": "1.2.0",
      "_model_name": "LayoutModel",
      "_view_count": null,
      "_view_module": "@jupyter-widgets/base",
      "_view_module_version": "1.2.0",
      "_view_name": "LayoutView",
      "align_content": null,
      "align_items": null,
      "align_self": null,
      "border": null,
      "bottom": null,
      "display": null,
      "flex": null,
      "flex_flow": null,
      "grid_area": null,
      "grid_auto_columns": null,
      "grid_auto_flow": null,
      "grid_auto_rows": null,
      "grid_column": null,
      "grid_gap": null,
      "grid_row": null,
      "grid_template_areas": null,
      "grid_template_columns": null,
      "grid_template_rows": null,
      "height": null,
      "justify_content": null,
      "justify_items": null,
      "left": null,
      "margin": null,
      "max_height": null,
      "max_width": null,
      "min_height": null,
      "min_width": null,
      "object_fit": null,
      "object_position": null,
      "order": null,
      "overflow": null,
      "overflow_x": null,
      "overflow_y": null,
      "padding": null,
      "right": null,
      "top": null,
      "visibility": null,
      "width": null
     }
    },
    "5bddb763bbfd439796bf2ea3ab41a613": {
     "model_module": "@jupyter-widgets/controls",
     "model_name": "HTMLModel",
     "state": {
      "_dom_classes": [],
      "_model_module": "@jupyter-widgets/controls",
      "_model_module_version": "1.5.0",
      "_model_name": "HTMLModel",
      "_view_count": null,
      "_view_module": "@jupyter-widgets/controls",
      "_view_module_version": "1.5.0",
      "_view_name": "HTMLView",
      "description": "",
      "description_tooltip": null,
      "layout": "IPY_MODEL_1b3c7031dcf54aa9907a0378449b7ba6",
      "placeholder": "​",
      "style": "IPY_MODEL_abba95d86497405c9d03bcb4343351d9",
      "value": " 196343/196343 [16:05&lt;00:00, 203.37it/s]"
     }
    },
    "608bdde3354f4144910165223c2da16e": {
     "model_module": "@jupyter-widgets/base",
     "model_name": "LayoutModel",
     "state": {
      "_model_module": "@jupyter-widgets/base",
      "_model_module_version": "1.2.0",
      "_model_name": "LayoutModel",
      "_view_count": null,
      "_view_module": "@jupyter-widgets/base",
      "_view_module_version": "1.2.0",
      "_view_name": "LayoutView",
      "align_content": null,
      "align_items": null,
      "align_self": null,
      "border": null,
      "bottom": null,
      "display": null,
      "flex": null,
      "flex_flow": null,
      "grid_area": null,
      "grid_auto_columns": null,
      "grid_auto_flow": null,
      "grid_auto_rows": null,
      "grid_column": null,
      "grid_gap": null,
      "grid_row": null,
      "grid_template_areas": null,
      "grid_template_columns": null,
      "grid_template_rows": null,
      "height": null,
      "justify_content": null,
      "justify_items": null,
      "left": null,
      "margin": null,
      "max_height": null,
      "max_width": null,
      "min_height": null,
      "min_width": null,
      "object_fit": null,
      "object_position": null,
      "order": null,
      "overflow": null,
      "overflow_x": null,
      "overflow_y": null,
      "padding": null,
      "right": null,
      "top": null,
      "visibility": null,
      "width": null
     }
    },
    "64686c27827442ee9827baead150bcd9": {
     "model_module": "@jupyter-widgets/base",
     "model_name": "LayoutModel",
     "state": {
      "_model_module": "@jupyter-widgets/base",
      "_model_module_version": "1.2.0",
      "_model_name": "LayoutModel",
      "_view_count": null,
      "_view_module": "@jupyter-widgets/base",
      "_view_module_version": "1.2.0",
      "_view_name": "LayoutView",
      "align_content": null,
      "align_items": null,
      "align_self": null,
      "border": null,
      "bottom": null,
      "display": null,
      "flex": null,
      "flex_flow": null,
      "grid_area": null,
      "grid_auto_columns": null,
      "grid_auto_flow": null,
      "grid_auto_rows": null,
      "grid_column": null,
      "grid_gap": null,
      "grid_row": null,
      "grid_template_areas": null,
      "grid_template_columns": null,
      "grid_template_rows": null,
      "height": null,
      "justify_content": null,
      "justify_items": null,
      "left": null,
      "margin": null,
      "max_height": null,
      "max_width": null,
      "min_height": null,
      "min_width": null,
      "object_fit": null,
      "object_position": null,
      "order": null,
      "overflow": null,
      "overflow_x": null,
      "overflow_y": null,
      "padding": null,
      "right": null,
      "top": null,
      "visibility": null,
      "width": null
     }
    },
    "70a382f5d51b43fe806a5e86dac59271": {
     "model_module": "@jupyter-widgets/controls",
     "model_name": "FloatProgressModel",
     "state": {
      "_dom_classes": [],
      "_model_module": "@jupyter-widgets/controls",
      "_model_module_version": "1.5.0",
      "_model_name": "FloatProgressModel",
      "_view_count": null,
      "_view_module": "@jupyter-widgets/controls",
      "_view_module_version": "1.5.0",
      "_view_name": "ProgressView",
      "bar_style": "",
      "description": "100%",
      "description_tooltip": null,
      "layout": "IPY_MODEL_a021a201545a45e39eb89ada566f011f",
      "max": 196343,
      "min": 0,
      "orientation": "horizontal",
      "style": "IPY_MODEL_472ab4bd67a44ece869d5ae7bcccbeb4",
      "value": 196343
     }
    },
    "7c0bbb62653b43d5810eca8c57c9306e": {
     "model_module": "@jupyter-widgets/controls",
     "model_name": "ProgressStyleModel",
     "state": {
      "_model_module": "@jupyter-widgets/controls",
      "_model_module_version": "1.5.0",
      "_model_name": "ProgressStyleModel",
      "_view_count": null,
      "_view_module": "@jupyter-widgets/base",
      "_view_module_version": "1.2.0",
      "_view_name": "StyleView",
      "bar_color": null,
      "description_width": "initial"
     }
    },
    "8a5a3ec98c4b4d7e9e425f8de3ef708e": {
     "model_module": "@jupyter-widgets/controls",
     "model_name": "HTMLModel",
     "state": {
      "_dom_classes": [],
      "_model_module": "@jupyter-widgets/controls",
      "_model_module_version": "1.5.0",
      "_model_name": "HTMLModel",
      "_view_count": null,
      "_view_module": "@jupyter-widgets/controls",
      "_view_module_version": "1.5.0",
      "_view_name": "HTMLView",
      "description": "",
      "description_tooltip": null,
      "layout": "IPY_MODEL_64686c27827442ee9827baead150bcd9",
      "placeholder": "​",
      "style": "IPY_MODEL_eb88676fba1d47e482f448c72879fe05",
      "value": " 196343/196343 [15:33&lt;00:00, 1233.95it/s]"
     }
    },
    "8b2fbfdad8ee4df1b4d2426a0a53463b": {
     "model_module": "@jupyter-widgets/controls",
     "model_name": "HTMLModel",
     "state": {
      "_dom_classes": [],
      "_model_module": "@jupyter-widgets/controls",
      "_model_module_version": "1.5.0",
      "_model_name": "HTMLModel",
      "_view_count": null,
      "_view_module": "@jupyter-widgets/controls",
      "_view_module_version": "1.5.0",
      "_view_name": "HTMLView",
      "description": "",
      "description_tooltip": null,
      "layout": "IPY_MODEL_e22ce415e62d49d9834eed4be32db24d",
      "placeholder": "​",
      "style": "IPY_MODEL_e8c8bf900e3f4e78becdc8ee3773d119",
      "value": " 4/4 [1:06:53&lt;00:00, 1003.44s/it]"
     }
    },
    "9036e1977baf441c96073037c80f794d": {
     "model_module": "@jupyter-widgets/controls",
     "model_name": "HBoxModel",
     "state": {
      "_dom_classes": [],
      "_model_module": "@jupyter-widgets/controls",
      "_model_module_version": "1.5.0",
      "_model_name": "HBoxModel",
      "_view_count": null,
      "_view_module": "@jupyter-widgets/controls",
      "_view_module_version": "1.5.0",
      "_view_name": "HBoxView",
      "box_style": "",
      "children": [
       "IPY_MODEL_d945d1a2e88b4c71b06e035682a2bf98",
       "IPY_MODEL_080af10c25b74bd8bdd0bd45b25983b6"
      ],
      "layout": "IPY_MODEL_2d61530cbed2415d9928930e121e5ab6"
     }
    },
    "94126431060347c4b7dce8cad4e3d190": {
     "model_module": "@jupyter-widgets/controls",
     "model_name": "HBoxModel",
     "state": {
      "_dom_classes": [],
      "_model_module": "@jupyter-widgets/controls",
      "_model_module_version": "1.5.0",
      "_model_name": "HBoxModel",
      "_view_count": null,
      "_view_module": "@jupyter-widgets/controls",
      "_view_module_version": "1.5.0",
      "_view_name": "HBoxView",
      "box_style": "",
      "children": [
       "IPY_MODEL_70a382f5d51b43fe806a5e86dac59271",
       "IPY_MODEL_37cd25b4627149538b72fae26182fb9a"
      ],
      "layout": "IPY_MODEL_e6380f5d77cf40aeb8864447dbec932d"
     }
    },
    "a021a201545a45e39eb89ada566f011f": {
     "model_module": "@jupyter-widgets/base",
     "model_name": "LayoutModel",
     "state": {
      "_model_module": "@jupyter-widgets/base",
      "_model_module_version": "1.2.0",
      "_model_name": "LayoutModel",
      "_view_count": null,
      "_view_module": "@jupyter-widgets/base",
      "_view_module_version": "1.2.0",
      "_view_name": "LayoutView",
      "align_content": null,
      "align_items": null,
      "align_self": null,
      "border": null,
      "bottom": null,
      "display": null,
      "flex": null,
      "flex_flow": null,
      "grid_area": null,
      "grid_auto_columns": null,
      "grid_auto_flow": null,
      "grid_auto_rows": null,
      "grid_column": null,
      "grid_gap": null,
      "grid_row": null,
      "grid_template_areas": null,
      "grid_template_columns": null,
      "grid_template_rows": null,
      "height": null,
      "justify_content": null,
      "justify_items": null,
      "left": null,
      "margin": null,
      "max_height": null,
      "max_width": null,
      "min_height": null,
      "min_width": null,
      "object_fit": null,
      "object_position": null,
      "order": null,
      "overflow": null,
      "overflow_x": null,
      "overflow_y": null,
      "padding": null,
      "right": null,
      "top": null,
      "visibility": null,
      "width": null
     }
    },
    "abba95d86497405c9d03bcb4343351d9": {
     "model_module": "@jupyter-widgets/controls",
     "model_name": "DescriptionStyleModel",
     "state": {
      "_model_module": "@jupyter-widgets/controls",
      "_model_module_version": "1.5.0",
      "_model_name": "DescriptionStyleModel",
      "_view_count": null,
      "_view_module": "@jupyter-widgets/base",
      "_view_module_version": "1.2.0",
      "_view_name": "StyleView",
      "description_width": ""
     }
    },
    "b4642831ccdc452e8589f0fb02d65102": {
     "model_module": "@jupyter-widgets/base",
     "model_name": "LayoutModel",
     "state": {
      "_model_module": "@jupyter-widgets/base",
      "_model_module_version": "1.2.0",
      "_model_name": "LayoutModel",
      "_view_count": null,
      "_view_module": "@jupyter-widgets/base",
      "_view_module_version": "1.2.0",
      "_view_name": "LayoutView",
      "align_content": null,
      "align_items": null,
      "align_self": null,
      "border": null,
      "bottom": null,
      "display": null,
      "flex": null,
      "flex_flow": null,
      "grid_area": null,
      "grid_auto_columns": null,
      "grid_auto_flow": null,
      "grid_auto_rows": null,
      "grid_column": null,
      "grid_gap": null,
      "grid_row": null,
      "grid_template_areas": null,
      "grid_template_columns": null,
      "grid_template_rows": null,
      "height": null,
      "justify_content": null,
      "justify_items": null,
      "left": null,
      "margin": null,
      "max_height": null,
      "max_width": null,
      "min_height": null,
      "min_width": null,
      "object_fit": null,
      "object_position": null,
      "order": null,
      "overflow": null,
      "overflow_x": null,
      "overflow_y": null,
      "padding": null,
      "right": null,
      "top": null,
      "visibility": null,
      "width": null
     }
    },
    "c8607cfa738b41e4879f6a01dc09043d": {
     "model_module": "@jupyter-widgets/base",
     "model_name": "LayoutModel",
     "state": {
      "_model_module": "@jupyter-widgets/base",
      "_model_module_version": "1.2.0",
      "_model_name": "LayoutModel",
      "_view_count": null,
      "_view_module": "@jupyter-widgets/base",
      "_view_module_version": "1.2.0",
      "_view_name": "LayoutView",
      "align_content": null,
      "align_items": null,
      "align_self": null,
      "border": null,
      "bottom": null,
      "display": null,
      "flex": null,
      "flex_flow": null,
      "grid_area": null,
      "grid_auto_columns": null,
      "grid_auto_flow": null,
      "grid_auto_rows": null,
      "grid_column": null,
      "grid_gap": null,
      "grid_row": null,
      "grid_template_areas": null,
      "grid_template_columns": null,
      "grid_template_rows": null,
      "height": null,
      "justify_content": null,
      "justify_items": null,
      "left": null,
      "margin": null,
      "max_height": null,
      "max_width": null,
      "min_height": null,
      "min_width": null,
      "object_fit": null,
      "object_position": null,
      "order": null,
      "overflow": null,
      "overflow_x": null,
      "overflow_y": null,
      "padding": null,
      "right": null,
      "top": null,
      "visibility": null,
      "width": null
     }
    },
    "d945d1a2e88b4c71b06e035682a2bf98": {
     "model_module": "@jupyter-widgets/controls",
     "model_name": "FloatProgressModel",
     "state": {
      "_dom_classes": [],
      "_model_module": "@jupyter-widgets/controls",
      "_model_module_version": "1.5.0",
      "_model_name": "FloatProgressModel",
      "_view_count": null,
      "_view_module": "@jupyter-widgets/controls",
      "_view_module_version": "1.5.0",
      "_view_name": "ProgressView",
      "bar_style": "",
      "description": "100%",
      "description_tooltip": null,
      "layout": "IPY_MODEL_3a59d775a5ad4792a4a0a247a4b21086",
      "max": 196343,
      "min": 0,
      "orientation": "horizontal",
      "style": "IPY_MODEL_fdf902ffda5245c3a41c8b5eb148bf07",
      "value": 196343
     }
    },
    "d9fac6700ace4f5e8046b9b603aa73e8": {
     "model_module": "@jupyter-widgets/controls",
     "model_name": "FloatProgressModel",
     "state": {
      "_dom_classes": [],
      "_model_module": "@jupyter-widgets/controls",
      "_model_module_version": "1.5.0",
      "_model_name": "FloatProgressModel",
      "_view_count": null,
      "_view_module": "@jupyter-widgets/controls",
      "_view_module_version": "1.5.0",
      "_view_name": "ProgressView",
      "bar_style": "",
      "description": "100%",
      "description_tooltip": null,
      "layout": "IPY_MODEL_c8607cfa738b41e4879f6a01dc09043d",
      "max": 196343,
      "min": 0,
      "orientation": "horizontal",
      "style": "IPY_MODEL_15beb4c5a30644dc925bdbab2b6f6fd9",
      "value": 196343
     }
    },
    "db7ec3532a624d19a50d1731aa958f48": {
     "model_module": "@jupyter-widgets/controls",
     "model_name": "HBoxModel",
     "state": {
      "_dom_classes": [],
      "_model_module": "@jupyter-widgets/controls",
      "_model_module_version": "1.5.0",
      "_model_name": "HBoxModel",
      "_view_count": null,
      "_view_module": "@jupyter-widgets/controls",
      "_view_module_version": "1.5.0",
      "_view_name": "HBoxView",
      "box_style": "",
      "children": [
       "IPY_MODEL_0c56b63c66ad4eaf9220ee5d6a3d6edf",
       "IPY_MODEL_5bddb763bbfd439796bf2ea3ab41a613"
      ],
      "layout": "IPY_MODEL_b4642831ccdc452e8589f0fb02d65102"
     }
    },
    "de63163b86744e37b910ad808bd3e830": {
     "model_module": "@jupyter-widgets/base",
     "model_name": "LayoutModel",
     "state": {
      "_model_module": "@jupyter-widgets/base",
      "_model_module_version": "1.2.0",
      "_model_name": "LayoutModel",
      "_view_count": null,
      "_view_module": "@jupyter-widgets/base",
      "_view_module_version": "1.2.0",
      "_view_name": "LayoutView",
      "align_content": null,
      "align_items": null,
      "align_self": null,
      "border": null,
      "bottom": null,
      "display": null,
      "flex": null,
      "flex_flow": null,
      "grid_area": null,
      "grid_auto_columns": null,
      "grid_auto_flow": null,
      "grid_auto_rows": null,
      "grid_column": null,
      "grid_gap": null,
      "grid_row": null,
      "grid_template_areas": null,
      "grid_template_columns": null,
      "grid_template_rows": null,
      "height": null,
      "justify_content": null,
      "justify_items": null,
      "left": null,
      "margin": null,
      "max_height": null,
      "max_width": null,
      "min_height": null,
      "min_width": null,
      "object_fit": null,
      "object_position": null,
      "order": null,
      "overflow": null,
      "overflow_x": null,
      "overflow_y": null,
      "padding": null,
      "right": null,
      "top": null,
      "visibility": null,
      "width": null
     }
    },
    "e22ce415e62d49d9834eed4be32db24d": {
     "model_module": "@jupyter-widgets/base",
     "model_name": "LayoutModel",
     "state": {
      "_model_module": "@jupyter-widgets/base",
      "_model_module_version": "1.2.0",
      "_model_name": "LayoutModel",
      "_view_count": null,
      "_view_module": "@jupyter-widgets/base",
      "_view_module_version": "1.2.0",
      "_view_name": "LayoutView",
      "align_content": null,
      "align_items": null,
      "align_self": null,
      "border": null,
      "bottom": null,
      "display": null,
      "flex": null,
      "flex_flow": null,
      "grid_area": null,
      "grid_auto_columns": null,
      "grid_auto_flow": null,
      "grid_auto_rows": null,
      "grid_column": null,
      "grid_gap": null,
      "grid_row": null,
      "grid_template_areas": null,
      "grid_template_columns": null,
      "grid_template_rows": null,
      "height": null,
      "justify_content": null,
      "justify_items": null,
      "left": null,
      "margin": null,
      "max_height": null,
      "max_width": null,
      "min_height": null,
      "min_width": null,
      "object_fit": null,
      "object_position": null,
      "order": null,
      "overflow": null,
      "overflow_x": null,
      "overflow_y": null,
      "padding": null,
      "right": null,
      "top": null,
      "visibility": null,
      "width": null
     }
    },
    "e25ceac1002248098c2e2c907558bc0c": {
     "model_module": "@jupyter-widgets/controls",
     "model_name": "HBoxModel",
     "state": {
      "_dom_classes": [],
      "_model_module": "@jupyter-widgets/controls",
      "_model_module_version": "1.5.0",
      "_model_name": "HBoxModel",
      "_view_count": null,
      "_view_module": "@jupyter-widgets/controls",
      "_view_module_version": "1.5.0",
      "_view_name": "HBoxView",
      "box_style": "",
      "children": [
       "IPY_MODEL_d9fac6700ace4f5e8046b9b603aa73e8",
       "IPY_MODEL_8a5a3ec98c4b4d7e9e425f8de3ef708e"
      ],
      "layout": "IPY_MODEL_52eab12be6ca4649818915f1688b47e3"
     }
    },
    "e2685b7a57b2415bb9eb94d300ddc41b": {
     "model_module": "@jupyter-widgets/controls",
     "model_name": "ProgressStyleModel",
     "state": {
      "_model_module": "@jupyter-widgets/controls",
      "_model_module_version": "1.5.0",
      "_model_name": "ProgressStyleModel",
      "_view_count": null,
      "_view_module": "@jupyter-widgets/base",
      "_view_module_version": "1.2.0",
      "_view_name": "StyleView",
      "bar_color": null,
      "description_width": "initial"
     }
    },
    "e6380f5d77cf40aeb8864447dbec932d": {
     "model_module": "@jupyter-widgets/base",
     "model_name": "LayoutModel",
     "state": {
      "_model_module": "@jupyter-widgets/base",
      "_model_module_version": "1.2.0",
      "_model_name": "LayoutModel",
      "_view_count": null,
      "_view_module": "@jupyter-widgets/base",
      "_view_module_version": "1.2.0",
      "_view_name": "LayoutView",
      "align_content": null,
      "align_items": null,
      "align_self": null,
      "border": null,
      "bottom": null,
      "display": null,
      "flex": null,
      "flex_flow": null,
      "grid_area": null,
      "grid_auto_columns": null,
      "grid_auto_flow": null,
      "grid_auto_rows": null,
      "grid_column": null,
      "grid_gap": null,
      "grid_row": null,
      "grid_template_areas": null,
      "grid_template_columns": null,
      "grid_template_rows": null,
      "height": null,
      "justify_content": null,
      "justify_items": null,
      "left": null,
      "margin": null,
      "max_height": null,
      "max_width": null,
      "min_height": null,
      "min_width": null,
      "object_fit": null,
      "object_position": null,
      "order": null,
      "overflow": null,
      "overflow_x": null,
      "overflow_y": null,
      "padding": null,
      "right": null,
      "top": null,
      "visibility": null,
      "width": null
     }
    },
    "e8c8bf900e3f4e78becdc8ee3773d119": {
     "model_module": "@jupyter-widgets/controls",
     "model_name": "DescriptionStyleModel",
     "state": {
      "_model_module": "@jupyter-widgets/controls",
      "_model_module_version": "1.5.0",
      "_model_name": "DescriptionStyleModel",
      "_view_count": null,
      "_view_module": "@jupyter-widgets/base",
      "_view_module_version": "1.2.0",
      "_view_name": "StyleView",
      "description_width": ""
     }
    },
    "eb88676fba1d47e482f448c72879fe05": {
     "model_module": "@jupyter-widgets/controls",
     "model_name": "DescriptionStyleModel",
     "state": {
      "_model_module": "@jupyter-widgets/controls",
      "_model_module_version": "1.5.0",
      "_model_name": "DescriptionStyleModel",
      "_view_count": null,
      "_view_module": "@jupyter-widgets/base",
      "_view_module_version": "1.2.0",
      "_view_name": "StyleView",
      "description_width": ""
     }
    },
    "fdf902ffda5245c3a41c8b5eb148bf07": {
     "model_module": "@jupyter-widgets/controls",
     "model_name": "ProgressStyleModel",
     "state": {
      "_model_module": "@jupyter-widgets/controls",
      "_model_module_version": "1.5.0",
      "_model_name": "ProgressStyleModel",
      "_view_count": null,
      "_view_module": "@jupyter-widgets/base",
      "_view_module_version": "1.2.0",
      "_view_name": "StyleView",
      "bar_color": null,
      "description_width": "initial"
     }
    },
    "fe5cc089c1864af78b13180ac5683cfd": {
     "model_module": "@jupyter-widgets/controls",
     "model_name": "FloatProgressModel",
     "state": {
      "_dom_classes": [],
      "_model_module": "@jupyter-widgets/controls",
      "_model_module_version": "1.5.0",
      "_model_name": "FloatProgressModel",
      "_view_count": null,
      "_view_module": "@jupyter-widgets/controls",
      "_view_module_version": "1.5.0",
      "_view_name": "ProgressView",
      "bar_style": "success",
      "description": "100%",
      "description_tooltip": null,
      "layout": "IPY_MODEL_608bdde3354f4144910165223c2da16e",
      "max": 4,
      "min": 0,
      "orientation": "horizontal",
      "style": "IPY_MODEL_7c0bbb62653b43d5810eca8c57c9306e",
      "value": 4
     }
    },
    "fe88279fad304921b3794318a4021384": {
     "model_module": "@jupyter-widgets/base",
     "model_name": "LayoutModel",
     "state": {
      "_model_module": "@jupyter-widgets/base",
      "_model_module_version": "1.2.0",
      "_model_name": "LayoutModel",
      "_view_count": null,
      "_view_module": "@jupyter-widgets/base",
      "_view_module_version": "1.2.0",
      "_view_name": "LayoutView",
      "align_content": null,
      "align_items": null,
      "align_self": null,
      "border": null,
      "bottom": null,
      "display": null,
      "flex": null,
      "flex_flow": null,
      "grid_area": null,
      "grid_auto_columns": null,
      "grid_auto_flow": null,
      "grid_auto_rows": null,
      "grid_column": null,
      "grid_gap": null,
      "grid_row": null,
      "grid_template_areas": null,
      "grid_template_columns": null,
      "grid_template_rows": null,
      "height": null,
      "justify_content": null,
      "justify_items": null,
      "left": null,
      "margin": null,
      "max_height": null,
      "max_width": null,
      "min_height": null,
      "min_width": null,
      "object_fit": null,
      "object_position": null,
      "order": null,
      "overflow": null,
      "overflow_x": null,
      "overflow_y": null,
      "padding": null,
      "right": null,
      "top": null,
      "visibility": null,
      "width": null
     }
    }
   }
  }
 },
 "nbformat": 4,
 "nbformat_minor": 1
}
